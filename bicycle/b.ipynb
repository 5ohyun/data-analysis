{
 "metadata": {
  "language_info": {
   "codemirror_mode": {
    "name": "ipython",
    "version": 3
   },
   "file_extension": ".py",
   "mimetype": "text/x-python",
   "name": "python",
   "nbconvert_exporter": "python",
   "pygments_lexer": "ipython3",
   "version": "3.7.6-final"
  },
  "orig_nbformat": 2,
  "kernelspec": {
   "name": "python_defaultSpec_1598539214500",
   "display_name": "Python 3.7.6 64-bit ('base': conda)"
  }
 },
 "nbformat": 4,
 "nbformat_minor": 2,
 "cells": [
  {
   "cell_type": "code",
   "execution_count": 1,
   "metadata": {
    "tags": []
   },
   "outputs": [
    {
     "output_type": "stream",
     "name": "stdout",
     "text": "datetime       count\n0   2011-01-17 00:00:00   27.340000\n1   2011-01-17 01:00:00   17.180000\n2   2011-01-17 02:00:00   13.020000\n3   2011-01-17 03:00:00    7.850000\n4   2011-01-17 04:00:00    3.510000\n..                  ...         ...\n844 2011-12-19 19:00:00  266.180000\n845 2011-12-19 20:00:00  200.750000\n846 2011-12-19 21:00:00  135.350000\n847 2011-12-19 22:00:00   99.190000\n848 2011-12-19 23:00:00   53.023333\n\n[849 rows x 2 columns]\n"
    }
   ],
   "source": [
    "import pandas as pd\n",
    "import numpy as np\n",
    "from sklearn.model_selection import cross_val_score\n",
    "from sklearn.neighbors import KNeighborsRegressor\n",
    "from sklearn.linear_model import LinearRegression\n",
    "from sklearn import ensemble\n",
    "import datetime\n",
    "from sklearn.model_selection import cross_val_score\n",
    "\n",
    "\n",
    "# train.csv를 이용해 count를 예측하는 모델을 만든후\n",
    "# test.csv의 count를 예측해보세요.\n",
    "\n",
    "train = pd.read_csv(\"train.csv\")\n",
    "test = pd.read_csv(\"test.csv\")\n",
    "\n",
    "train['datetime']=pd.to_datetime(train['datetime'])\n",
    "test['datetime']=pd.to_datetime(test['datetime'])\n",
    "\n",
    "\n",
    "for i in [train, test] :\n",
    "    i[\"year\"] = i[\"datetime\"].dt.year\n",
    "    i[\"month\"] = i[\"datetime\"].dt.month\n",
    "    i[\"day\"] = i[\"datetime\"].dt.day\n",
    "    i[\"hour\"] = i[\"datetime\"].dt.hour\n",
    "    i[\"minute\"] = i[\"datetime\"].dt.minute\n",
    "    i[\"second\"] = i[\"datetime\"].dt.second\n",
    "    i[\"dayofweek\"] = i[\"datetime\"].dt.dayofweek\n",
    "\n",
    "\n",
    "categorical_feature_names = [\"season\",\"holiday\",\"workingday\",\"weather\", \"dayofweek\",\"month\",\"year\",\"hour\"]\n",
    "\n",
    "for var in categorical_feature_names:\n",
    "    train[var] = train[var].astype(\"category\")\n",
    "    test[var] = test[var].astype(\"category\")\n",
    "    \n",
    "feature_names = [\"season\", \"weather\", \"temp\", \"atemp\",\"year\", \"hour\", \"dayofweek\", \"holiday\", \"workingday\"]\n",
    "\n",
    "\n",
    "X_train = train[feature_names]\n",
    "\n",
    "X_test = test[feature_names]\n",
    "\n",
    "label_name = \"count\"\n",
    "\n",
    "y_train = train[label_name]\n",
    "\n",
    "from sklearn.ensemble import RandomForestRegressor\n",
    "\n",
    "max_depth_list = []\n",
    "\n",
    "model = RandomForestRegressor(n_estimators=100, n_jobs=-1, random_state=0)\n",
    "\n",
    "model.fit(X_train, y_train)\n",
    "\n",
    "predictions = model.predict(X_test)\n",
    "test[\"count\"] = predictions\n",
    "test=pd.DataFrame(test)\n",
    "test=test[['datetime','count']]\n",
    "\n",
    "print(pd.DataFrame(test))\n",
    "\n",
    "\n",
    "# test.csv의 datetime 순서대로 [datetime, count]를 가지는 dataframe을\n",
    "# return 하도록 합니다.\n",
    "\n"
   ]
  },
  {
   "cell_type": "code",
   "execution_count": null,
   "metadata": {},
   "outputs": [],
   "source": []
  }
 ]
}